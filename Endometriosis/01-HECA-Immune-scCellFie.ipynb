{
 "cells": [
  {
   "cell_type": "code",
   "execution_count": 1,
   "id": "jewish-fraud",
   "metadata": {},
   "outputs": [],
   "source": [
    "import sccellfie\n",
    "import scanpy as sc\n",
    "import pandas as pd\n",
    "import numpy as np\n",
    "\n",
    "import matplotlib.pyplot as plt\n",
    "import seaborn as sns\n",
    "import glasbey\n",
    "\n",
    "import json\n",
    "import textwrap\n",
    "\n",
    "from tqdm import tqdm"
   ]
  },
  {
   "cell_type": "code",
   "execution_count": 2,
   "id": "healthy-promise",
   "metadata": {},
   "outputs": [],
   "source": [
    "import warnings\n",
    "warnings.filterwarnings(\"ignore\")"
   ]
  },
  {
   "cell_type": "code",
   "execution_count": 3,
   "id": "described-billion",
   "metadata": {},
   "outputs": [
    {
     "name": "stdout",
     "output_type": "stream",
     "text": [
      "Font name: `Lato`\n"
     ]
    }
   ],
   "source": [
    "import mpl_fontkit as fk\n",
    "fk.install(\"Lato\")\n",
    "fk.set_font(\"Lato\")"
   ]
  },
  {
   "cell_type": "markdown",
   "id": "cognitive-parker",
   "metadata": {},
   "source": [
    "## Load data"
   ]
  },
  {
   "cell_type": "code",
   "execution_count": 4,
   "id": "registered-magnet",
   "metadata": {},
   "outputs": [],
   "source": [
    "adata = sc.read_h5ad('/nfs/team292/eg22/Datasets/Endometrium/endometriumAtlasV2_cells_immune.h5ad')"
   ]
  },
  {
   "cell_type": "code",
   "execution_count": 5,
   "id": "configured-warning",
   "metadata": {},
   "outputs": [
    {
     "data": {
      "text/plain": [
       "(32322, 17766)"
      ]
     },
     "execution_count": 5,
     "metadata": {},
     "output_type": "execute_result"
    }
   ],
   "source": [
    "adata.shape"
   ]
  },
  {
   "cell_type": "code",
   "execution_count": 6,
   "id": "automated-winter",
   "metadata": {},
   "outputs": [],
   "source": [
    "adata.layers['counts'] = adata.X.copy()"
   ]
  },
  {
   "cell_type": "code",
   "execution_count": 7,
   "id": "inner-briefs",
   "metadata": {
    "tags": []
   },
   "outputs": [],
   "source": [
    "cell_group = 'celltype'"
   ]
  },
  {
   "cell_type": "code",
   "execution_count": 8,
   "id": "separated-bahrain",
   "metadata": {
    "tags": []
   },
   "outputs": [],
   "source": [
    "batch_key = 'sample' # Specify batch_key or leave as None"
   ]
  },
  {
   "cell_type": "markdown",
   "id": "plastic-electron",
   "metadata": {},
   "source": [
    "## Run scCellFie"
   ]
  },
  {
   "cell_type": "code",
   "execution_count": 9,
   "id": "daily-russia",
   "metadata": {
    "tags": []
   },
   "outputs": [
    {
     "name": "stdout",
     "output_type": "stream",
     "text": [
      "\n",
      "==== scCellFie Pipeline: Initializing ====\n",
      "Loading scCellFie database for organism: human\n",
      "\n",
      "==== scCellFie Pipeline: Processing entire dataset ====\n",
      "\n",
      "---- scCellFie Step: Preprocessing data ----\n",
      "\n",
      "---- scCellFie Step: Preparing inputs ----\n",
      "Gene names corrected to match database: 22\n",
      "Shape of new adata object: (32322, 840)\n",
      "Number of GPRs: 749\n",
      "Shape of tasks by genes: (215, 840)\n",
      "Shape of reactions by genes: (749, 840)\n",
      "Shape of tasks by reactions: (215, 749)\n",
      "\n",
      "---- scCellFie Step: Smoothing gene expression ----\n"
     ]
    },
    {
     "name": "stderr",
     "output_type": "stream",
     "text": [
      "Smoothing Expression: 100%|██████████| 7/7 [00:52<00:00,  7.46s/it]\n"
     ]
    },
    {
     "name": "stdout",
     "output_type": "stream",
     "text": [
      "\n",
      "---- scCellFie Step: Computing gene scores ----\n",
      "\n",
      "---- scCellFie Step: Computing reaction activity ----\n"
     ]
    },
    {
     "name": "stderr",
     "output_type": "stream",
     "text": [
      "Cell Rxn Activities: 100%|██████████| 32322/32322 [02:50<00:00, 189.16it/s]\n"
     ]
    },
    {
     "name": "stdout",
     "output_type": "stream",
     "text": [
      "\n",
      "---- scCellFie Step: Computing metabolic task activity ----\n",
      "Removed 1 metabolic tasks with zeros across all cells.\n",
      "\n",
      "==== scCellFie Pipeline: Processing completed successfully ====\n"
     ]
    }
   ],
   "source": [
    "results = sccellfie.run_sccellfie_pipeline(adata, \n",
    "                                           organism='human',\n",
    "                                           sccellfie_data_folder=None,\n",
    "                                           n_counts_col='n_counts', \n",
    "                                           process_by_group=False, \n",
    "                                           groupby=None, \n",
    "                                           neighbors_key='neighbors',\n",
    "                                           n_neighbors=10, \n",
    "                                           batch_key=batch_key, \n",
    "                                           threshold_key='sccellfie_threshold', \n",
    "                                           smooth_cells=True, \n",
    "                                           alpha=0.33,\n",
    "                                           chunk_size=5000,\n",
    "                                           disable_pbar=False, \n",
    "                                           save_folder=None,\n",
    "                                           save_filename=None\n",
    "                                          )"
   ]
  },
  {
   "cell_type": "code",
   "execution_count": 10,
   "id": "electrical-fifth",
   "metadata": {},
   "outputs": [
    {
     "name": "stdout",
     "output_type": "stream",
     "text": [
      "/nfs/team292/eg22/Metabolic-Tasks/Endometrium/HECA/Imm-MT-2025-02-18//Immune-HECA.h5ad was correctly saved\n",
      "/nfs/team292/eg22/Metabolic-Tasks/Endometrium/HECA/Imm-MT-2025-02-18//Immune-HECA_reactions.h5ad was correctly saved\n",
      "/nfs/team292/eg22/Metabolic-Tasks/Endometrium/HECA/Imm-MT-2025-02-18//Immune-HECA_metabolic_tasks.h5ad was correctly saved\n"
     ]
    }
   ],
   "source": [
    "sccellfie.io.save_adata(results['adata'], \n",
    "                        folder='/nfs/team292/eg22/Metabolic-Tasks/Endometrium/HECA/Imm-MT-2025-02-18/',\n",
    "                        filename='Immune-HECA'\n",
    "                       )"
   ]
  },
  {
   "cell_type": "code",
   "execution_count": null,
   "id": "dirty-mountain",
   "metadata": {},
   "outputs": [],
   "source": []
  }
 ],
 "metadata": {
  "kernelspec": {
   "display_name": "Python (single_cell)",
   "language": "python",
   "name": "single_cell"
  },
  "language_info": {
   "codemirror_mode": {
    "name": "ipython",
    "version": 3
   },
   "file_extension": ".py",
   "mimetype": "text/x-python",
   "name": "python",
   "nbconvert_exporter": "python",
   "pygments_lexer": "ipython3",
   "version": "3.10.14"
  }
 },
 "nbformat": 4,
 "nbformat_minor": 5
}
